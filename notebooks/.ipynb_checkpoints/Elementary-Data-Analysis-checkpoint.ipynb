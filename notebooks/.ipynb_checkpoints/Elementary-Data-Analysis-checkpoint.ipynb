{
 "cells": [
  {
   "cell_type": "code",
   "execution_count": null,
   "metadata": {},
   "outputs": [],
   "source": [
    "import plotly.express as px\n",
    "import pandas as pd\n",
    "import numpy as np\n",
    "import os\n",
    "\n",
    "%reload_ext nb_black"
   ]
  },
  {
   "cell_type": "code",
   "execution_count": null,
   "metadata": {},
   "outputs": [],
   "source": [
    "project_directory = os.path.dirname(os.getcwd())\n",
    "path_to_data = os.path.join(project_directory, \"data\")\n",
    "\n",
    "path_to_data_info = os.path.join(path_to_data, \"data_description.txt\")\n",
    "\n",
    "path_to_train_data = os.path.join(path_to_data, \"train.csv\")\n",
    "path_to_test_data = os.path.join(path_to_data, \"test.csv\")"
   ]
  },
  {
   "cell_type": "code",
   "execution_count": null,
   "metadata": {
    "scrolled": true
   },
   "outputs": [],
   "source": [
    "def read_file():\n",
    "    with open(path_to_data_info, \"r\") as file:\n",
    "        for line in file:\n",
    "            yield line.rstrip()\n",
    "\n",
    "\n",
    "line_reader = read_file()\n",
    "for line in line_reader:\n",
    "    print(line)"
   ]
  },
  {
   "cell_type": "code",
   "execution_count": null,
   "metadata": {},
   "outputs": [],
   "source": [
    "train_df = pd.read_csv(path_to_train_data)\n",
    "train_df.head()"
   ]
  },
  {
   "cell_type": "code",
   "execution_count": null,
   "metadata": {},
   "outputs": [],
   "source": [
    "train_df.info()"
   ]
  },
  {
   "cell_type": "code",
   "execution_count": null,
   "metadata": {},
   "outputs": [],
   "source": [
    "train_df.columns"
   ]
  },
  {
   "cell_type": "code",
   "execution_count": null,
   "metadata": {},
   "outputs": [],
   "source": [
    "fig =  px.scatter(x=[0, 1, 2, 3, 4], y=[0, 1, 4, 9, 16])# px.scatter(train_df[\"MSSubClass\"], train_df[\"SalePrice\"])\n",
    "fig.show()"
   ]
  }
 ],
 "metadata": {
  "kernelspec": {
   "display_name": "Python3 housing-regression",
   "language": "python",
   "name": "housing-regression"
  },
  "language_info": {
   "codemirror_mode": {
    "name": "ipython",
    "version": 3
   },
   "file_extension": ".py",
   "mimetype": "text/x-python",
   "name": "python",
   "nbconvert_exporter": "python",
   "pygments_lexer": "ipython3",
   "version": "3.8.12"
  }
 },
 "nbformat": 4,
 "nbformat_minor": 4
}
